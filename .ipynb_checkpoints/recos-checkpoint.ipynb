{
 "cells": [
  {
   "cell_type": "code",
   "execution_count": 1,
   "metadata": {},
   "outputs": [
    {
     "name": "stderr",
     "output_type": "stream",
     "text": [
      "/opt/conda/lib/python3.7/site-packages/matplotlib/__init__.py:855: MatplotlibDeprecationWarning: \n",
      "examples.directory is deprecated; in the future, examples will be found relative to the 'datapath' directory.\n",
      "  \"found relative to the 'datapath' directory.\".format(key))\n",
      "/opt/conda/lib/python3.7/site-packages/matplotlib/__init__.py:846: MatplotlibDeprecationWarning: \n",
      "The text.latex.unicode rcparam was deprecated in Matplotlib 2.2 and will be removed in 3.1.\n",
      "  \"2.2\", name=key, obj_type=\"rcparam\", addendum=addendum)\n",
      "/opt/conda/lib/python3.7/site-packages/seaborn/apionly.py:9: UserWarning: As seaborn no longer sets a default style on import, the seaborn.apionly module is deprecated. It will be removed in a future version.\n",
      "  warnings.warn(msg, UserWarning)\n"
     ]
    }
   ],
   "source": [
    "%matplotlib inline\n",
    "import numpy as np # imports a fast numerical programming library\n",
    "import scipy as sp # imports a statistical programming library\n",
    "import matplotlib as mpl # imports the standard plotting library\n",
    "import matplotlib.cm as cm # imports plotting colormaps\n",
    "import matplotlib.pyplot as plt # imports the MATLAB compatible plotting API\n",
    "import pandas as pd # imports a library to handle data as dataframes\n",
    "import seaborn.apionly as sns"
   ]
  },
  {
   "cell_type": "code",
   "execution_count": 43,
   "metadata": {},
   "outputs": [
    {
     "name": "stdout",
     "output_type": "stream",
     "text": [
      "W&B Run: https://app.wandb.ai/univai-ss2019/HackRecos/runs/i0vvz7x2\n",
      "Call `%%wandb` in the cell containing your training loop to display live results.\n"
     ]
    }
   ],
   "source": [
    "import wandb\n",
    "from wandb.keras import WandbCallback\n",
    "run = wandb.init()"
   ]
  },
  {
   "cell_type": "code",
   "execution_count": 3,
   "metadata": {},
   "outputs": [
    {
     "data": {
      "text/html": [
       "<div>\n",
       "<style scoped>\n",
       "    .dataframe tbody tr th:only-of-type {\n",
       "        vertical-align: middle;\n",
       "    }\n",
       "\n",
       "    .dataframe tbody tr th {\n",
       "        vertical-align: top;\n",
       "    }\n",
       "\n",
       "    .dataframe thead th {\n",
       "        text-align: right;\n",
       "    }\n",
       "</style>\n",
       "<table border=\"1\" class=\"dataframe\">\n",
       "  <thead>\n",
       "    <tr style=\"text-align: right;\">\n",
       "      <th></th>\n",
       "      <th>userId</th>\n",
       "      <th>movieId</th>\n",
       "      <th>rating</th>\n",
       "      <th>timestamp</th>\n",
       "    </tr>\n",
       "  </thead>\n",
       "  <tbody>\n",
       "    <tr>\n",
       "      <th>0</th>\n",
       "      <td>1</td>\n",
       "      <td>2</td>\n",
       "      <td>3.5</td>\n",
       "      <td>1112486027</td>\n",
       "    </tr>\n",
       "    <tr>\n",
       "      <th>1</th>\n",
       "      <td>1</td>\n",
       "      <td>29</td>\n",
       "      <td>3.5</td>\n",
       "      <td>1112484676</td>\n",
       "    </tr>\n",
       "    <tr>\n",
       "      <th>2</th>\n",
       "      <td>1</td>\n",
       "      <td>32</td>\n",
       "      <td>3.5</td>\n",
       "      <td>1112484819</td>\n",
       "    </tr>\n",
       "    <tr>\n",
       "      <th>3</th>\n",
       "      <td>1</td>\n",
       "      <td>47</td>\n",
       "      <td>3.5</td>\n",
       "      <td>1112484727</td>\n",
       "    </tr>\n",
       "    <tr>\n",
       "      <th>4</th>\n",
       "      <td>1</td>\n",
       "      <td>50</td>\n",
       "      <td>3.5</td>\n",
       "      <td>1112484580</td>\n",
       "    </tr>\n",
       "  </tbody>\n",
       "</table>\n",
       "</div>"
      ],
      "text/plain": [
       "   userId  movieId  rating   timestamp\n",
       "0       1        2     3.5  1112486027\n",
       "1       1       29     3.5  1112484676\n",
       "2       1       32     3.5  1112484819\n",
       "3       1       47     3.5  1112484727\n",
       "4       1       50     3.5  1112484580"
      ]
     },
     "execution_count": 3,
     "metadata": {},
     "output_type": "execute_result"
    }
   ],
   "source": [
    "df = pd.read_csv(\"ratings.csv.gz\", compression='gzip')\n",
    "df.head()"
   ]
  },
  {
   "cell_type": "code",
   "execution_count": 4,
   "metadata": {},
   "outputs": [
    {
     "data": {
      "text/html": [
       "<div>\n",
       "<style scoped>\n",
       "    .dataframe tbody tr th:only-of-type {\n",
       "        vertical-align: middle;\n",
       "    }\n",
       "\n",
       "    .dataframe tbody tr th {\n",
       "        vertical-align: top;\n",
       "    }\n",
       "\n",
       "    .dataframe thead th {\n",
       "        text-align: right;\n",
       "    }\n",
       "</style>\n",
       "<table border=\"1\" class=\"dataframe\">\n",
       "  <thead>\n",
       "    <tr style=\"text-align: right;\">\n",
       "      <th></th>\n",
       "      <th>userId</th>\n",
       "      <th>movieId</th>\n",
       "      <th>rating</th>\n",
       "    </tr>\n",
       "  </thead>\n",
       "  <tbody>\n",
       "    <tr>\n",
       "      <th>0</th>\n",
       "      <td>1</td>\n",
       "      <td>2</td>\n",
       "      <td>3.5</td>\n",
       "    </tr>\n",
       "    <tr>\n",
       "      <th>1</th>\n",
       "      <td>1</td>\n",
       "      <td>29</td>\n",
       "      <td>3.5</td>\n",
       "    </tr>\n",
       "    <tr>\n",
       "      <th>2</th>\n",
       "      <td>1</td>\n",
       "      <td>32</td>\n",
       "      <td>3.5</td>\n",
       "    </tr>\n",
       "    <tr>\n",
       "      <th>3</th>\n",
       "      <td>1</td>\n",
       "      <td>47</td>\n",
       "      <td>3.5</td>\n",
       "    </tr>\n",
       "    <tr>\n",
       "      <th>4</th>\n",
       "      <td>1</td>\n",
       "      <td>50</td>\n",
       "      <td>3.5</td>\n",
       "    </tr>\n",
       "  </tbody>\n",
       "</table>\n",
       "</div>"
      ],
      "text/plain": [
       "   userId  movieId  rating\n",
       "0       1        2     3.5\n",
       "1       1       29     3.5\n",
       "2       1       32     3.5\n",
       "3       1       47     3.5\n",
       "4       1       50     3.5"
      ]
     },
     "execution_count": 4,
     "metadata": {},
     "output_type": "execute_result"
    }
   ],
   "source": [
    "df.drop(\"timestamp\",inplace=True, axis=1)\n",
    "df.head()"
   ]
  },
  {
   "cell_type": "code",
   "execution_count": 5,
   "metadata": {},
   "outputs": [
    {
     "data": {
      "text/plain": [
       "Index(['userId', 'movieId', 'rating'], dtype='object')"
      ]
     },
     "execution_count": 5,
     "metadata": {},
     "output_type": "execute_result"
    }
   ],
   "source": [
    "df.columns"
   ]
  },
  {
   "cell_type": "code",
   "execution_count": 47,
   "metadata": {},
   "outputs": [],
   "source": [
    "df2 = df.sample(500000)"
   ]
  },
  {
   "cell_type": "code",
   "execution_count": 48,
   "metadata": {},
   "outputs": [],
   "source": [
    "df2.userId = df2.userId.astype('category').cat.codes.values\n",
    "df2.movieId = df2.movieId.astype('category').cat.codes.values"
   ]
  },
  {
   "cell_type": "code",
   "execution_count": 49,
   "metadata": {},
   "outputs": [
    {
     "data": {
      "text/plain": [
       "500000"
      ]
     },
     "execution_count": 49,
     "metadata": {},
     "output_type": "execute_result"
    }
   ],
   "source": [
    "n_ratings = df2.shape[0]\n",
    "n_ratings"
   ]
  },
  {
   "cell_type": "code",
   "execution_count": 50,
   "metadata": {},
   "outputs": [
    {
     "data": {
      "text/plain": [
       "(107014, 13147)"
      ]
     },
     "execution_count": 50,
     "metadata": {},
     "output_type": "execute_result"
    }
   ],
   "source": [
    "n_factors=3\n",
    "n_users, n_movies = len(df2.userId.unique()), len(df2.movieId.unique())\n",
    "n_users, n_movies"
   ]
  },
  {
   "cell_type": "code",
   "execution_count": 10,
   "metadata": {},
   "outputs": [
    {
     "data": {
      "text/html": [
       "<div>\n",
       "<style scoped>\n",
       "    .dataframe tbody tr th:only-of-type {\n",
       "        vertical-align: middle;\n",
       "    }\n",
       "\n",
       "    .dataframe tbody tr th {\n",
       "        vertical-align: top;\n",
       "    }\n",
       "\n",
       "    .dataframe thead th {\n",
       "        text-align: right;\n",
       "    }\n",
       "</style>\n",
       "<table border=\"1\" class=\"dataframe\">\n",
       "  <thead>\n",
       "    <tr style=\"text-align: right;\">\n",
       "      <th></th>\n",
       "      <th>userId</th>\n",
       "      <th>movieId</th>\n",
       "      <th>rating</th>\n",
       "    </tr>\n",
       "  </thead>\n",
       "  <tbody>\n",
       "    <tr>\n",
       "      <th>16724527</th>\n",
       "      <td>27904</td>\n",
       "      <td>941</td>\n",
       "      <td>3.0</td>\n",
       "    </tr>\n",
       "    <tr>\n",
       "      <th>6211895</th>\n",
       "      <td>10252</td>\n",
       "      <td>395</td>\n",
       "      <td>2.5</td>\n",
       "    </tr>\n",
       "    <tr>\n",
       "      <th>18570244</th>\n",
       "      <td>31047</td>\n",
       "      <td>6415</td>\n",
       "      <td>4.0</td>\n",
       "    </tr>\n",
       "    <tr>\n",
       "      <th>44365</th>\n",
       "      <td>74</td>\n",
       "      <td>3378</td>\n",
       "      <td>2.0</td>\n",
       "    </tr>\n",
       "    <tr>\n",
       "      <th>18513152</th>\n",
       "      <td>30961</td>\n",
       "      <td>788</td>\n",
       "      <td>2.5</td>\n",
       "    </tr>\n",
       "  </tbody>\n",
       "</table>\n",
       "</div>"
      ],
      "text/plain": [
       "          userId  movieId  rating\n",
       "16724527   27904      941     3.0\n",
       "6211895    10252      395     2.5\n",
       "18570244   31047     6415     4.0\n",
       "44365         74     3378     2.0\n",
       "18513152   30961      788     2.5"
      ]
     },
     "execution_count": 10,
     "metadata": {},
     "output_type": "execute_result"
    }
   ],
   "source": [
    "df2.head()"
   ]
  },
  {
   "cell_type": "code",
   "execution_count": 51,
   "metadata": {},
   "outputs": [],
   "source": [
    "np.random.seed=2017\n",
    "mask = np.random.rand(500000) < 0.8"
   ]
  },
  {
   "cell_type": "code",
   "execution_count": 53,
   "metadata": {},
   "outputs": [],
   "source": [
    "traindf = df2[mask]\n",
    "testdf = df2[~mask]"
   ]
  },
  {
   "cell_type": "code",
   "execution_count": 61,
   "metadata": {},
   "outputs": [],
   "source": [
    "import keras\n",
    "from keras.models import Sequential\n",
    "from keras.layers import Activation, Dropout, Flatten, Dense\n",
    "\n",
    "movie_input = keras.layers.Input(shape=[1],name='movieId')\n",
    "movie_embedding = keras.layers.Embedding(n_movies + 1, n_factors, name='movieEmbedding')(movie_input)\n",
    "movie_embedding_droput = keras.layers.Dropout(0.2)(movie_embedding) \n",
    "movie_vec = keras.layers.Flatten(name='movieFlatten')(movie_embedding_droput)\n",
    "\n",
    "user_input = keras.layers.Input(shape=[1],name='userId')\n",
    "user_embedding = keras.layers.Embedding(n_users + 1, n_factors,name='userEmbedding')(user_input)\n",
    "user_embedding_dropout = keras.layers.Dropout(0.2)(user_embedding)\n",
    "user_vec = keras.layers.Flatten(name='userFlatten')(user_embedding_dropout)\n",
    "\n",
    "prod = keras.layers.Dot(axes=1, name=\"MatrixFactorization\")([movie_vec, user_vec] )\n",
    "act = keras.layers.Activation('hard_sigmoid')(prod)\n",
    "fin_prod = keras.layers.Lambda(lambda x: 5*x + 0.5)(act)\n",
    "model = keras.Model([user_input, movie_input], fin_prod)\n",
    "model.compile('adam', 'mse')"
   ]
  },
  {
   "cell_type": "code",
   "execution_count": 20,
   "metadata": {},
   "outputs": [
    {
     "data": {
      "text/plain": [
       "<tf.Tensor 'movieId:0' shape=(?, 1) dtype=float32>"
      ]
     },
     "execution_count": 20,
     "metadata": {},
     "output_type": "execute_result"
    }
   ],
   "source": [
    "movie_input"
   ]
  },
  {
   "cell_type": "code",
   "execution_count": 62,
   "metadata": {},
   "outputs": [
    {
     "name": "stdout",
     "output_type": "stream",
     "text": [
      "__________________________________________________________________________________________________\n",
      "Layer (type)                    Output Shape         Param #     Connected to                     \n",
      "==================================================================================================\n",
      "movieId (InputLayer)            (None, 1)            0                                            \n",
      "__________________________________________________________________________________________________\n",
      "userId (InputLayer)             (None, 1)            0                                            \n",
      "__________________________________________________________________________________________________\n",
      "movieEmbedding (Embedding)      (None, 1, 3)         39444       movieId[0][0]                    \n",
      "__________________________________________________________________________________________________\n",
      "userEmbedding (Embedding)       (None, 1, 3)         321045      userId[0][0]                     \n",
      "__________________________________________________________________________________________________\n",
      "dropout_9 (Dropout)             (None, 1, 3)         0           movieEmbedding[0][0]             \n",
      "__________________________________________________________________________________________________\n",
      "dropout_10 (Dropout)            (None, 1, 3)         0           userEmbedding[0][0]              \n",
      "__________________________________________________________________________________________________\n",
      "movieFlatten (Flatten)          (None, 3)            0           dropout_9[0][0]                  \n",
      "__________________________________________________________________________________________________\n",
      "userFlatten (Flatten)           (None, 3)            0           dropout_10[0][0]                 \n",
      "__________________________________________________________________________________________________\n",
      "MatrixFactorization (Dot)       (None, 1)            0           movieFlatten[0][0]               \n",
      "                                                                 userFlatten[0][0]                \n",
      "__________________________________________________________________________________________________\n",
      "activation_2 (Activation)       (None, 1)            0           MatrixFactorization[0][0]        \n",
      "__________________________________________________________________________________________________\n",
      "lambda_1 (Lambda)               (None, 1)            0           activation_2[0][0]               \n",
      "==================================================================================================\n",
      "Total params: 360,489\n",
      "Trainable params: 360,489\n",
      "Non-trainable params: 0\n",
      "__________________________________________________________________________________________________\n"
     ]
    }
   ],
   "source": [
    "model.summary()"
   ]
  },
  {
   "cell_type": "code",
   "execution_count": 24,
   "metadata": {},
   "outputs": [],
   "source": [
    "from keras.utils.vis_utils import model_to_dot\n",
    "from IPython.display import SVG\n",
    "# SVG(model_to_dot(model,  show_shapes=True, show_layer_names=True, rankdir='HB').create(prog='dot', format='svg'))"
   ]
  },
  {
   "cell_type": "code",
   "execution_count": 33,
   "metadata": {},
   "outputs": [
    {
     "data": {
      "text/plain": [
       "array([10252,    74, 28423, ..., 18312,  2874,  1637], dtype=int32)"
      ]
     },
     "execution_count": 33,
     "metadata": {},
     "output_type": "execute_result"
    }
   ],
   "source": [
    "traindf.userId.values"
   ]
  },
  {
   "cell_type": "code",
   "execution_count": 63,
   "metadata": {},
   "outputs": [
    {
     "name": "stdout",
     "output_type": "stream",
     "text": [
      "Epoch 1/70\n",
      "399970/399970 [==============================] - 4s 11us/step - loss: 1.3862\n",
      "Epoch 2/70\n",
      "399970/399970 [==============================] - 4s 11us/step - loss: 1.3829\n",
      "Epoch 3/70\n",
      "399970/399970 [==============================] - 4s 11us/step - loss: 1.3681\n",
      "Epoch 4/70\n",
      "399970/399970 [==============================] - 4s 11us/step - loss: 1.3343\n",
      "Epoch 5/70\n",
      "399970/399970 [==============================] - 4s 10us/step - loss: 1.2840\n",
      "Epoch 6/70\n",
      "399970/399970 [==============================] - 4s 10us/step - loss: 1.2258\n",
      "Epoch 7/70\n",
      "399970/399970 [==============================] - 4s 11us/step - loss: 1.1685\n",
      "Epoch 8/70\n",
      "399970/399970 [==============================] - 4s 11us/step - loss: 1.1166\n",
      "Epoch 9/70\n",
      "399970/399970 [==============================] - 4s 11us/step - loss: 1.0700\n",
      "Epoch 10/70\n",
      "399970/399970 [==============================] - 4s 10us/step - loss: 1.0318\n",
      "Epoch 11/70\n",
      "399970/399970 [==============================] - 4s 11us/step - loss: 1.0005\n",
      "Epoch 12/70\n",
      "399970/399970 [==============================] - 4s 10us/step - loss: 0.9723\n",
      "Epoch 13/70\n",
      "399970/399970 [==============================] - 4s 10us/step - loss: 0.9497\n",
      "Epoch 14/70\n",
      "399970/399970 [==============================] - 5s 11us/step - loss: 0.9267\n",
      "Epoch 15/70\n",
      "399970/399970 [==============================] - 4s 10us/step - loss: 0.9102\n",
      "Epoch 16/70\n",
      "399970/399970 [==============================] - 4s 10us/step - loss: 0.8954\n",
      "Epoch 17/70\n",
      "399970/399970 [==============================] - 4s 10us/step - loss: 0.8813\n",
      "Epoch 18/70\n",
      "399970/399970 [==============================] - 4s 11us/step - loss: 0.8680\n",
      "Epoch 19/70\n",
      "399970/399970 [==============================] - 4s 10us/step - loss: 0.8558\n",
      "Epoch 20/70\n",
      "399970/399970 [==============================] - 4s 10us/step - loss: 0.8456\n",
      "Epoch 21/70\n",
      "399970/399970 [==============================] - 4s 11us/step - loss: 0.8364\n",
      "Epoch 22/70\n",
      "399970/399970 [==============================] - 4s 11us/step - loss: 0.8276\n",
      "Epoch 23/70\n",
      "399970/399970 [==============================] - 4s 11us/step - loss: 0.8210\n",
      "Epoch 24/70\n",
      "399970/399970 [==============================] - 4s 10us/step - loss: 0.8105\n",
      "Epoch 25/70\n",
      "399970/399970 [==============================] - 4s 10us/step - loss: 0.8068\n",
      "Epoch 26/70\n",
      "399970/399970 [==============================] - 4s 10us/step - loss: 0.8014\n",
      "Epoch 27/70\n",
      "399970/399970 [==============================] - 4s 10us/step - loss: 0.7918\n",
      "Epoch 28/70\n",
      "399970/399970 [==============================] - 4s 10us/step - loss: 0.7868\n",
      "Epoch 29/70\n",
      "399970/399970 [==============================] - 4s 11us/step - loss: 0.7811\n",
      "Epoch 30/70\n",
      "399970/399970 [==============================] - 4s 10us/step - loss: 0.7784\n",
      "Epoch 31/70\n",
      "399970/399970 [==============================] - 4s 10us/step - loss: 0.7724\n",
      "Epoch 32/70\n",
      "399970/399970 [==============================] - 4s 10us/step - loss: 0.7659\n",
      "Epoch 33/70\n",
      "399970/399970 [==============================] - 4s 10us/step - loss: 0.7632\n",
      "Epoch 34/70\n",
      "399970/399970 [==============================] - 4s 10us/step - loss: 0.7603\n",
      "Epoch 35/70\n",
      "399970/399970 [==============================] - 4s 10us/step - loss: 0.7557\n",
      "Epoch 36/70\n",
      "399970/399970 [==============================] - 4s 11us/step - loss: 0.7513\n",
      "Epoch 37/70\n",
      "399970/399970 [==============================] - 4s 10us/step - loss: 0.7477\n",
      "Epoch 38/70\n",
      "399970/399970 [==============================] - 4s 11us/step - loss: 0.7447\n",
      "Epoch 39/70\n",
      "399970/399970 [==============================] - 4s 10us/step - loss: 0.7419\n",
      "Epoch 40/70\n",
      "399970/399970 [==============================] - 4s 10us/step - loss: 0.7382\n",
      "Epoch 41/70\n",
      "399970/399970 [==============================] - 4s 10us/step - loss: 0.7359\n",
      "Epoch 42/70\n",
      "399970/399970 [==============================] - 4s 10us/step - loss: 0.7348\n",
      "Epoch 43/70\n",
      "399970/399970 [==============================] - 4s 10us/step - loss: 0.7317\n",
      "Epoch 44/70\n",
      "399970/399970 [==============================] - 4s 10us/step - loss: 0.7269\n",
      "Epoch 45/70\n",
      "399970/399970 [==============================] - 4s 10us/step - loss: 0.7267\n",
      "Epoch 46/70\n",
      "399970/399970 [==============================] - 4s 10us/step - loss: 0.7233\n",
      "Epoch 47/70\n",
      "399970/399970 [==============================] - 4s 10us/step - loss: 0.7226\n",
      "Epoch 48/70\n",
      "399970/399970 [==============================] - 4s 11us/step - loss: 0.7197\n",
      "Epoch 49/70\n",
      "399970/399970 [==============================] - 4s 10us/step - loss: 0.7162\n",
      "Epoch 50/70\n",
      "399970/399970 [==============================] - 4s 11us/step - loss: 0.7170\n",
      "Epoch 51/70\n",
      "399970/399970 [==============================] - 4s 11us/step - loss: 0.7120\n",
      "Epoch 52/70\n",
      "399970/399970 [==============================] - 4s 11us/step - loss: 0.7112\n",
      "Epoch 53/70\n",
      "399970/399970 [==============================] - 4s 10us/step - loss: 0.7096\n",
      "Epoch 54/70\n",
      "399970/399970 [==============================] - 4s 11us/step - loss: 0.7086\n",
      "Epoch 55/70\n",
      "399970/399970 [==============================] - 4s 11us/step - loss: 0.7083\n",
      "Epoch 56/70\n",
      "399970/399970 [==============================] - 4s 11us/step - loss: 0.7049\n",
      "Epoch 57/70\n",
      "399970/399970 [==============================] - 4s 11us/step - loss: 0.7033\n",
      "Epoch 58/70\n",
      "399970/399970 [==============================] - 4s 11us/step - loss: 0.7015\n",
      "Epoch 59/70\n",
      "399970/399970 [==============================] - 4s 10us/step - loss: 0.7001\n",
      "Epoch 60/70\n",
      "399970/399970 [==============================] - 4s 11us/step - loss: 0.7000\n",
      "Epoch 61/70\n",
      "399970/399970 [==============================] - 4s 10us/step - loss: 0.6940\n",
      "Epoch 62/70\n",
      "399970/399970 [==============================] - 4s 10us/step - loss: 0.6982\n",
      "Epoch 63/70\n",
      "399970/399970 [==============================] - 4s 10us/step - loss: 0.6938\n",
      "Epoch 64/70\n",
      "399970/399970 [==============================] - 4s 10us/step - loss: 0.6941\n",
      "Epoch 65/70\n",
      "399970/399970 [==============================] - 4s 10us/step - loss: 0.6926\n",
      "Epoch 66/70\n",
      "399970/399970 [==============================] - 4s 10us/step - loss: 0.6903\n",
      "Epoch 67/70\n",
      "399970/399970 [==============================] - 4s 11us/step - loss: 0.6895\n",
      "Epoch 68/70\n",
      "399970/399970 [==============================] - 4s 10us/step - loss: 0.6886\n",
      "Epoch 69/70\n",
      "399970/399970 [==============================] - 4s 10us/step - loss: 0.6873\n",
      "Epoch 70/70\n",
      "399970/399970 [==============================] - 4s 11us/step - loss: 0.6885\n"
     ]
    }
   ],
   "source": [
    "history = model.fit([traindf.userId.values, traindf.movieId.values], traindf.rating.values, epochs=70, batch_size = 512, callbacks=[WandbCallback()])"
   ]
  },
  {
   "cell_type": "code",
   "execution_count": 64,
   "metadata": {},
   "outputs": [
    {
     "data": {
      "text/plain": [
       "[<matplotlib.lines.Line2D at 0x7fafd1a62ef0>]"
      ]
     },
     "execution_count": 64,
     "metadata": {},
     "output_type": "execute_result"
    },
    {
     "data": {
      "image/png": "[encoded data removed]",
      "text/plain": [
       "<Figure size 432x288 with 1 Axes>"
      ]
     },
     "metadata": {
      "needs_background": "light"
     },
     "output_type": "display_data"
    }
   ],
   "source": [
    "plt.plot(history.history['loss'])"
   ]
  },
  {
   "cell_type": "code",
   "execution_count": 65,
   "metadata": {},
   "outputs": [
    {
     "data": {
      "text/plain": [
       "1.1572653348510846"
      ]
     },
     "execution_count": 65,
     "metadata": {},
     "output_type": "execute_result"
    }
   ],
   "source": [
    "y_hat = model.predict([testdf.userId.values, testdf.movieId.values])\n",
    "from sklearn.metrics import mean_squared_error\n",
    "np.sqrt(mean_squared_error(testdf.rating.values, y_hat))"
   ]
  },
  {
   "cell_type": "code",
   "execution_count": null,
   "metadata": {},
   "outputs": [],
   "source": []
  }
 ],
 "metadata": {
  "kernelspec": {
   "display_name": "Python 3",
   "language": "python",
   "name": "python3"
  },
  "language_info": {
   "codemirror_mode": {
    "name": "ipython",
    "version": 3
   },
   "file_extension": ".py",
   "mimetype": "text/x-python",
   "name": "python",
   "nbconvert_exporter": "python",
   "pygments_lexer": "ipython3",
   "version": "3.7.3"
  }
 },
 "nbformat": 4,
 "nbformat_minor": 2
}
