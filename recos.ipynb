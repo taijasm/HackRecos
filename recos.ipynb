{
 "cells": [
  {
   "cell_type": "code",
   "execution_count": 1,
   "metadata": {},
   "outputs": [
    {
     "name": "stderr",
     "output_type": "stream",
     "text": [
      "//anaconda/envs/py3l/lib/python3.6/site-packages/matplotlib/__init__.py:855: MatplotlibDeprecationWarning: \n",
      "examples.directory is deprecated; in the future, examples will be found relative to the 'datapath' directory.\n",
      "  \"found relative to the 'datapath' directory.\".format(key))\n",
      "//anaconda/envs/py3l/lib/python3.6/site-packages/matplotlib/__init__.py:846: MatplotlibDeprecationWarning: \n",
      "The text.latex.unicode rcparam was deprecated in Matplotlib 2.2 and will be removed in 3.1.\n",
      "  \"2.2\", name=key, obj_type=\"rcparam\", addendum=addendum)\n"
     ]
    }
   ],
   "source": [
    "%matplotlib inline\n",
    "import numpy as np # imports a fast numerical programming library\n",
    "import scipy as sp # imports a statistical programming library\n",
    "import matplotlib as mpl # imports the standard plotting library\n",
    "import matplotlib.cm as cm # imports plotting colormaps\n",
    "import matplotlib.pyplot as plt # imports the MATLAB compatible plotting API\n",
    "import pandas as pd # imports a library to handle data as dataframes\n",
    "import seaborn.apionly as sns"
   ]
  },
  {
   "cell_type": "code",
   "execution_count": 21,
   "metadata": {},
   "outputs": [
    {
     "data": {
      "text/html": [
       "<div>\n",
       "<style scoped>\n",
       "    .dataframe tbody tr th:only-of-type {\n",
       "        vertical-align: middle;\n",
       "    }\n",
       "\n",
       "    .dataframe tbody tr th {\n",
       "        vertical-align: top;\n",
       "    }\n",
       "\n",
       "    .dataframe thead th {\n",
       "        text-align: right;\n",
       "    }\n",
       "</style>\n",
       "<table border=\"1\" class=\"dataframe\">\n",
       "  <thead>\n",
       "    <tr style=\"text-align: right;\">\n",
       "      <th></th>\n",
       "      <th>userId</th>\n",
       "      <th>movieId</th>\n",
       "      <th>rating</th>\n",
       "      <th>timestamp</th>\n",
       "    </tr>\n",
       "  </thead>\n",
       "  <tbody>\n",
       "    <tr>\n",
       "      <th>0</th>\n",
       "      <td>1</td>\n",
       "      <td>2</td>\n",
       "      <td>3.5</td>\n",
       "      <td>1112486027</td>\n",
       "    </tr>\n",
       "    <tr>\n",
       "      <th>1</th>\n",
       "      <td>1</td>\n",
       "      <td>29</td>\n",
       "      <td>3.5</td>\n",
       "      <td>1112484676</td>\n",
       "    </tr>\n",
       "    <tr>\n",
       "      <th>2</th>\n",
       "      <td>1</td>\n",
       "      <td>32</td>\n",
       "      <td>3.5</td>\n",
       "      <td>1112484819</td>\n",
       "    </tr>\n",
       "    <tr>\n",
       "      <th>3</th>\n",
       "      <td>1</td>\n",
       "      <td>47</td>\n",
       "      <td>3.5</td>\n",
       "      <td>1112484727</td>\n",
       "    </tr>\n",
       "    <tr>\n",
       "      <th>4</th>\n",
       "      <td>1</td>\n",
       "      <td>50</td>\n",
       "      <td>3.5</td>\n",
       "      <td>1112484580</td>\n",
       "    </tr>\n",
       "  </tbody>\n",
       "</table>\n",
       "</div>"
      ],
      "text/plain": [
       "   userId  movieId  rating   timestamp\n",
       "0       1        2     3.5  1112486027\n",
       "1       1       29     3.5  1112484676\n",
       "2       1       32     3.5  1112484819\n",
       "3       1       47     3.5  1112484727\n",
       "4       1       50     3.5  1112484580"
      ]
     },
     "execution_count": 21,
     "metadata": {},
     "output_type": "execute_result"
    }
   ],
   "source": [
    "df = pd.read_csv(\"data/ratings.csv.gz\", compression='gzip')\n",
    "df.head()"
   ]
  },
  {
   "cell_type": "code",
   "execution_count": 22,
   "metadata": {},
   "outputs": [
    {
     "data": {
      "text/html": [
       "<div>\n",
       "<style scoped>\n",
       "    .dataframe tbody tr th:only-of-type {\n",
       "        vertical-align: middle;\n",
       "    }\n",
       "\n",
       "    .dataframe tbody tr th {\n",
       "        vertical-align: top;\n",
       "    }\n",
       "\n",
       "    .dataframe thead th {\n",
       "        text-align: right;\n",
       "    }\n",
       "</style>\n",
       "<table border=\"1\" class=\"dataframe\">\n",
       "  <thead>\n",
       "    <tr style=\"text-align: right;\">\n",
       "      <th></th>\n",
       "      <th>userId</th>\n",
       "      <th>movieId</th>\n",
       "      <th>rating</th>\n",
       "    </tr>\n",
       "  </thead>\n",
       "  <tbody>\n",
       "    <tr>\n",
       "      <th>0</th>\n",
       "      <td>1</td>\n",
       "      <td>2</td>\n",
       "      <td>3.5</td>\n",
       "    </tr>\n",
       "    <tr>\n",
       "      <th>1</th>\n",
       "      <td>1</td>\n",
       "      <td>29</td>\n",
       "      <td>3.5</td>\n",
       "    </tr>\n",
       "    <tr>\n",
       "      <th>2</th>\n",
       "      <td>1</td>\n",
       "      <td>32</td>\n",
       "      <td>3.5</td>\n",
       "    </tr>\n",
       "    <tr>\n",
       "      <th>3</th>\n",
       "      <td>1</td>\n",
       "      <td>47</td>\n",
       "      <td>3.5</td>\n",
       "    </tr>\n",
       "    <tr>\n",
       "      <th>4</th>\n",
       "      <td>1</td>\n",
       "      <td>50</td>\n",
       "      <td>3.5</td>\n",
       "    </tr>\n",
       "  </tbody>\n",
       "</table>\n",
       "</div>"
      ],
      "text/plain": [
       "   userId  movieId  rating\n",
       "0       1        2     3.5\n",
       "1       1       29     3.5\n",
       "2       1       32     3.5\n",
       "3       1       47     3.5\n",
       "4       1       50     3.5"
      ]
     },
     "execution_count": 22,
     "metadata": {},
     "output_type": "execute_result"
    }
   ],
   "source": [
    "df.drop(\"timestamp\",inplace=True, axis=1)\n",
    "df.head()"
   ]
  },
  {
   "cell_type": "code",
   "execution_count": 23,
   "metadata": {},
   "outputs": [
    {
     "data": {
      "text/plain": [
       "Index(['userId', 'movieId', 'rating'], dtype='object')"
      ]
     },
     "execution_count": 23,
     "metadata": {},
     "output_type": "execute_result"
    }
   ],
   "source": [
    "df.columns"
   ]
  },
  {
   "cell_type": "code",
   "execution_count": 24,
   "metadata": {},
   "outputs": [],
   "source": [
    "df2 = df.sample(50000)"
   ]
  },
  {
   "cell_type": "code",
   "execution_count": 25,
   "metadata": {},
   "outputs": [],
   "source": [
    "df2.userId = df2.userId.astype('category').cat.codes.values\n",
    "df2.movieId = df2.movieId.astype('category').cat.codes.values"
   ]
  },
  {
   "cell_type": "code",
   "execution_count": 26,
   "metadata": {},
   "outputs": [
    {
     "data": {
      "text/plain": [
       "50000"
      ]
     },
     "execution_count": 26,
     "metadata": {},
     "output_type": "execute_result"
    }
   ],
   "source": [
    "n_ratings = df2.shape[0]\n",
    "n_ratings"
   ]
  },
  {
   "cell_type": "code",
   "execution_count": 27,
   "metadata": {},
   "outputs": [
    {
     "data": {
      "text/plain": [
       "(33243, 6594)"
      ]
     },
     "execution_count": 27,
     "metadata": {},
     "output_type": "execute_result"
    }
   ],
   "source": [
    "n_factors=3\n",
    "n_users, n_movies = len(df2.userId.unique()), len(df2.movieId.unique())\n",
    "n_users, n_movies"
   ]
  },
  {
   "cell_type": "code",
   "execution_count": 28,
   "metadata": {},
   "outputs": [
    {
     "data": {
      "text/html": [
       "<div>\n",
       "<style scoped>\n",
       "    .dataframe tbody tr th:only-of-type {\n",
       "        vertical-align: middle;\n",
       "    }\n",
       "\n",
       "    .dataframe tbody tr th {\n",
       "        vertical-align: top;\n",
       "    }\n",
       "\n",
       "    .dataframe thead th {\n",
       "        text-align: right;\n",
       "    }\n",
       "</style>\n",
       "<table border=\"1\" class=\"dataframe\">\n",
       "  <thead>\n",
       "    <tr style=\"text-align: right;\">\n",
       "      <th></th>\n",
       "      <th>userId</th>\n",
       "      <th>movieId</th>\n",
       "      <th>rating</th>\n",
       "    </tr>\n",
       "  </thead>\n",
       "  <tbody>\n",
       "    <tr>\n",
       "      <th>2703571</th>\n",
       "      <td>4539</td>\n",
       "      <td>1492</td>\n",
       "      <td>2.5</td>\n",
       "    </tr>\n",
       "    <tr>\n",
       "      <th>12887545</th>\n",
       "      <td>21449</td>\n",
       "      <td>1147</td>\n",
       "      <td>4.0</td>\n",
       "    </tr>\n",
       "    <tr>\n",
       "      <th>16996832</th>\n",
       "      <td>28335</td>\n",
       "      <td>823</td>\n",
       "      <td>3.0</td>\n",
       "    </tr>\n",
       "    <tr>\n",
       "      <th>905459</th>\n",
       "      <td>1545</td>\n",
       "      <td>775</td>\n",
       "      <td>4.5</td>\n",
       "    </tr>\n",
       "    <tr>\n",
       "      <th>845713</th>\n",
       "      <td>1439</td>\n",
       "      <td>178</td>\n",
       "      <td>3.0</td>\n",
       "    </tr>\n",
       "  </tbody>\n",
       "</table>\n",
       "</div>"
      ],
      "text/plain": [
       "          userId  movieId  rating\n",
       "2703571     4539     1492     2.5\n",
       "12887545   21449     1147     4.0\n",
       "16996832   28335      823     3.0\n",
       "905459      1545      775     4.5\n",
       "845713      1439      178     3.0"
      ]
     },
     "execution_count": 28,
     "metadata": {},
     "output_type": "execute_result"
    }
   ],
   "source": [
    "df2.head()"
   ]
  },
  {
   "cell_type": "code",
   "execution_count": 29,
   "metadata": {},
   "outputs": [],
   "source": [
    "np.random.seed=2017\n",
    "mask = np.random.rand(50000) < 0.8"
   ]
  },
  {
   "cell_type": "code",
   "execution_count": 30,
   "metadata": {},
   "outputs": [],
   "source": [
    "traindf = df2[mask]\n",
    "testdf = df2[~mask]"
   ]
  },
  {
   "cell_type": "code",
   "execution_count": 36,
   "metadata": {},
   "outputs": [],
   "source": [
    "import keras\n",
    "movie_input = keras.layers.Input(shape=[1],name='movieId')\n",
    "movie_embedding = keras.layers.Embedding(n_movies + 1, n_factors, name='movieEmbedding')(movie_input)\n",
    "movie_vec = keras.layers.Flatten(name='movieFlatten')(movie_embedding)\n",
    "\n",
    "user_input = keras.layers.Input(shape=[1],name='userId')\n",
    "user_embedding = keras.layers.Embedding(n_users + 1, n_factors,name='userEmbedding')(user_input)\n",
    "user_vec = keras.layers.Flatten(name='userFlatten')(user_embedding)\n",
    "\n",
    "prod = keras.layers.Dot(axes=1, name=\"MatrixFactorization\")([movie_vec, user_vec] )\n",
    "model = keras.Model([user_input, movie_input], prod)\n",
    "model.compile('adam', 'mse')"
   ]
  },
  {
   "cell_type": "code",
   "execution_count": 37,
   "metadata": {},
   "outputs": [
    {
     "name": "stdout",
     "output_type": "stream",
     "text": [
      "__________________________________________________________________________________________________\n",
      "Layer (type)                    Output Shape         Param #     Connected to                     \n",
      "==================================================================================================\n",
      "movieId (InputLayer)            (None, 1)            0                                            \n",
      "__________________________________________________________________________________________________\n",
      "userId (InputLayer)             (None, 1)            0                                            \n",
      "__________________________________________________________________________________________________\n",
      "movieEmbedding (Embedding)      (None, 1, 3)         19785       movieId[0][0]                    \n",
      "__________________________________________________________________________________________________\n",
      "userEmbedding (Embedding)       (None, 1, 3)         99732       userId[0][0]                     \n",
      "__________________________________________________________________________________________________\n",
      "movieFlatten (Flatten)          (None, 3)            0           movieEmbedding[0][0]             \n",
      "__________________________________________________________________________________________________\n",
      "userFlatten (Flatten)           (None, 3)            0           userEmbedding[0][0]              \n",
      "__________________________________________________________________________________________________\n",
      "MatrixFactorization (Dot)       (None, 1)            0           movieFlatten[0][0]               \n",
      "                                                                 userFlatten[0][0]                \n",
      "==================================================================================================\n",
      "Total params: 119,517\n",
      "Trainable params: 119,517\n",
      "Non-trainable params: 0\n",
      "__________________________________________________________________________________________________\n"
     ]
    }
   ],
   "source": [
    "model.summary()"
   ]
  },
  {
   "cell_type": "code",
   "execution_count": 45,
   "metadata": {},
   "outputs": [
    {
     "data": {
      "image/svg+xml": [
       "<svg height=\"296pt\" viewBox=\"0.00 0.00 667.96 296.00\" width=\"668pt\" xmlns=\"http://www.w3.org/2000/svg\" xmlns:xlink=\"http://www.w3.org/1999/xlink\">\n",
       "<g class=\"graph\" id=\"graph0\" transform=\"scale(1 1) rotate(0) translate(4 292)\">\n",
       "<title>G</title>\n",
       "<polygon fill=\"white\" points=\"-4,4 -4,-292 663.956,-292 663.956,4 -4,4\" stroke=\"none\"/>\n",
       "<!-- 111995810536 -->\n",
       "<g class=\"node\" id=\"node1\"><title>111995810536</title>\n",
       "<polygon fill=\"none\" points=\"34.6172,-243.5 34.6172,-287.5 292.173,-287.5 292.173,-243.5 34.6172,-243.5\" stroke=\"black\"/>\n",
       "<text font-family=\"Times,serif\" font-size=\"14.00\" text-anchor=\"middle\" x=\"100.736\" y=\"-261.3\">movieId: InputLayer</text>\n",
       "<polyline fill=\"none\" points=\"166.855,-243.5 166.855,-287.5 \" stroke=\"black\"/>\n",
       "<text font-family=\"Times,serif\" font-size=\"14.00\" text-anchor=\"middle\" x=\"194.69\" y=\"-272.3\">input:</text>\n",
       "<polyline fill=\"none\" points=\"166.855,-265.5 222.524,-265.5 \" stroke=\"black\"/>\n",
       "<text font-family=\"Times,serif\" font-size=\"14.00\" text-anchor=\"middle\" x=\"194.69\" y=\"-250.3\">output:</text>\n",
       "<polyline fill=\"none\" points=\"222.524,-243.5 222.524,-287.5 \" stroke=\"black\"/>\n",
       "<text font-family=\"Times,serif\" font-size=\"14.00\" text-anchor=\"middle\" x=\"257.349\" y=\"-272.3\">(None, 1)</text>\n",
       "<polyline fill=\"none\" points=\"222.524,-265.5 292.173,-265.5 \" stroke=\"black\"/>\n",
       "<text font-family=\"Times,serif\" font-size=\"14.00\" text-anchor=\"middle\" x=\"257.349\" y=\"-250.3\">(None, 1)</text>\n",
       "</g>\n",
       "<!-- 111995810704 -->\n",
       "<g class=\"node\" id=\"node3\"><title>111995810704</title>\n",
       "<polygon fill=\"none\" points=\"0,-162.5 0,-206.5 326.79,-206.5 326.79,-162.5 0,-162.5\" stroke=\"black\"/>\n",
       "<text font-family=\"Times,serif\" font-size=\"14.00\" text-anchor=\"middle\" x=\"93.7363\" y=\"-180.3\">movieEmbedding: Embedding</text>\n",
       "<polyline fill=\"none\" points=\"187.473,-162.5 187.473,-206.5 \" stroke=\"black\"/>\n",
       "<text font-family=\"Times,serif\" font-size=\"14.00\" text-anchor=\"middle\" x=\"215.307\" y=\"-191.3\">input:</text>\n",
       "<polyline fill=\"none\" points=\"187.473,-184.5 243.142,-184.5 \" stroke=\"black\"/>\n",
       "<text font-family=\"Times,serif\" font-size=\"14.00\" text-anchor=\"middle\" x=\"215.307\" y=\"-169.3\">output:</text>\n",
       "<polyline fill=\"none\" points=\"243.142,-162.5 243.142,-206.5 \" stroke=\"black\"/>\n",
       "<text font-family=\"Times,serif\" font-size=\"14.00\" text-anchor=\"middle\" x=\"284.966\" y=\"-191.3\">(None, 1)</text>\n",
       "<polyline fill=\"none\" points=\"243.142,-184.5 326.79,-184.5 \" stroke=\"black\"/>\n",
       "<text font-family=\"Times,serif\" font-size=\"14.00\" text-anchor=\"middle\" x=\"284.966\" y=\"-169.3\">(None, 1, 3)</text>\n",
       "</g>\n",
       "<!-- 111995810536&#45;&gt;111995810704 -->\n",
       "<g class=\"edge\" id=\"edge1\"><title>111995810536-&gt;111995810704</title>\n",
       "<path d=\"M163.395,-243.329C163.395,-235.183 163.395,-225.699 163.395,-216.797\" fill=\"none\" stroke=\"black\"/>\n",
       "<polygon fill=\"black\" points=\"166.895,-216.729 163.395,-206.729 159.895,-216.729 166.895,-216.729\" stroke=\"black\"/>\n",
       "</g>\n",
       "<!-- 111995810760 -->\n",
       "<g class=\"node\" id=\"node2\"><title>111995810760</title>\n",
       "<polygon fill=\"none\" points=\"379.452,-243.5 379.452,-287.5 625.338,-287.5 625.338,-243.5 379.452,-243.5\" stroke=\"black\"/>\n",
       "<text font-family=\"Times,serif\" font-size=\"14.00\" text-anchor=\"middle\" x=\"439.736\" y=\"-261.3\">userId: InputLayer</text>\n",
       "<polyline fill=\"none\" points=\"500.021,-243.5 500.021,-287.5 \" stroke=\"black\"/>\n",
       "<text font-family=\"Times,serif\" font-size=\"14.00\" text-anchor=\"middle\" x=\"527.855\" y=\"-272.3\">input:</text>\n",
       "<polyline fill=\"none\" points=\"500.021,-265.5 555.69,-265.5 \" stroke=\"black\"/>\n",
       "<text font-family=\"Times,serif\" font-size=\"14.00\" text-anchor=\"middle\" x=\"527.855\" y=\"-250.3\">output:</text>\n",
       "<polyline fill=\"none\" points=\"555.69,-243.5 555.69,-287.5 \" stroke=\"black\"/>\n",
       "<text font-family=\"Times,serif\" font-size=\"14.00\" text-anchor=\"middle\" x=\"590.514\" y=\"-272.3\">(None, 1)</text>\n",
       "<polyline fill=\"none\" points=\"555.69,-265.5 625.338,-265.5 \" stroke=\"black\"/>\n",
       "<text font-family=\"Times,serif\" font-size=\"14.00\" text-anchor=\"middle\" x=\"590.514\" y=\"-250.3\">(None, 1)</text>\n",
       "</g>\n",
       "<!-- 111995810872 -->\n",
       "<g class=\"node\" id=\"node4\"><title>111995810872</title>\n",
       "<polygon fill=\"none\" points=\"344.834,-162.5 344.834,-206.5 659.956,-206.5 659.956,-162.5 344.834,-162.5\" stroke=\"black\"/>\n",
       "<text font-family=\"Times,serif\" font-size=\"14.00\" text-anchor=\"middle\" x=\"432.736\" y=\"-180.3\">userEmbedding: Embedding</text>\n",
       "<polyline fill=\"none\" points=\"520.638,-162.5 520.638,-206.5 \" stroke=\"black\"/>\n",
       "<text font-family=\"Times,serif\" font-size=\"14.00\" text-anchor=\"middle\" x=\"548.473\" y=\"-191.3\">input:</text>\n",
       "<polyline fill=\"none\" points=\"520.638,-184.5 576.307,-184.5 \" stroke=\"black\"/>\n",
       "<text font-family=\"Times,serif\" font-size=\"14.00\" text-anchor=\"middle\" x=\"548.473\" y=\"-169.3\">output:</text>\n",
       "<polyline fill=\"none\" points=\"576.307,-162.5 576.307,-206.5 \" stroke=\"black\"/>\n",
       "<text font-family=\"Times,serif\" font-size=\"14.00\" text-anchor=\"middle\" x=\"618.131\" y=\"-191.3\">(None, 1)</text>\n",
       "<polyline fill=\"none\" points=\"576.307,-184.5 659.956,-184.5 \" stroke=\"black\"/>\n",
       "<text font-family=\"Times,serif\" font-size=\"14.00\" text-anchor=\"middle\" x=\"618.131\" y=\"-169.3\">(None, 1, 3)</text>\n",
       "</g>\n",
       "<!-- 111995810760&#45;&gt;111995810872 -->\n",
       "<g class=\"edge\" id=\"edge2\"><title>111995810760-&gt;111995810872</title>\n",
       "<path d=\"M502.395,-243.329C502.395,-235.183 502.395,-225.699 502.395,-216.797\" fill=\"none\" stroke=\"black\"/>\n",
       "<polygon fill=\"black\" points=\"505.895,-216.729 502.395,-206.729 498.895,-216.729 505.895,-216.729\" stroke=\"black\"/>\n",
       "</g>\n",
       "<!-- 111995810816 -->\n",
       "<g class=\"node\" id=\"node5\"><title>111995810816</title>\n",
       "<polygon fill=\"none\" points=\"50.6621,-81.5 50.6621,-125.5 326.128,-125.5 326.128,-81.5 50.6621,-81.5\" stroke=\"black\"/>\n",
       "<text font-family=\"Times,serif\" font-size=\"14.00\" text-anchor=\"middle\" x=\"118.736\" y=\"-99.3\">movieFlatten: Flatten</text>\n",
       "<polyline fill=\"none\" points=\"186.811,-81.5 186.811,-125.5 \" stroke=\"black\"/>\n",
       "<text font-family=\"Times,serif\" font-size=\"14.00\" text-anchor=\"middle\" x=\"214.645\" y=\"-110.3\">input:</text>\n",
       "<polyline fill=\"none\" points=\"186.811,-103.5 242.479,-103.5 \" stroke=\"black\"/>\n",
       "<text font-family=\"Times,serif\" font-size=\"14.00\" text-anchor=\"middle\" x=\"214.645\" y=\"-88.3\">output:</text>\n",
       "<polyline fill=\"none\" points=\"242.479,-81.5 242.479,-125.5 \" stroke=\"black\"/>\n",
       "<text font-family=\"Times,serif\" font-size=\"14.00\" text-anchor=\"middle\" x=\"284.304\" y=\"-110.3\">(None, 1, 3)</text>\n",
       "<polyline fill=\"none\" points=\"242.479,-103.5 326.128,-103.5 \" stroke=\"black\"/>\n",
       "<text font-family=\"Times,serif\" font-size=\"14.00\" text-anchor=\"middle\" x=\"284.304\" y=\"-88.3\">(None, 3)</text>\n",
       "</g>\n",
       "<!-- 111995810704&#45;&gt;111995810816 -->\n",
       "<g class=\"edge\" id=\"edge3\"><title>111995810704-&gt;111995810816</title>\n",
       "<path d=\"M170.095,-162.329C172.701,-154.094 175.739,-144.493 178.583,-135.507\" fill=\"none\" stroke=\"black\"/>\n",
       "<polygon fill=\"black\" points=\"181.997,-136.319 181.677,-125.729 175.323,-134.207 181.997,-136.319\" stroke=\"black\"/>\n",
       "</g>\n",
       "<!-- 111995811040 -->\n",
       "<g class=\"node\" id=\"node6\"><title>111995811040</title>\n",
       "<polygon fill=\"none\" points=\"357.497,-81.5 357.497,-125.5 621.293,-125.5 621.293,-81.5 357.497,-81.5\" stroke=\"black\"/>\n",
       "<text font-family=\"Times,serif\" font-size=\"14.00\" text-anchor=\"middle\" x=\"419.736\" y=\"-99.3\">userFlatten: Flatten</text>\n",
       "<polyline fill=\"none\" points=\"481.976,-81.5 481.976,-125.5 \" stroke=\"black\"/>\n",
       "<text font-family=\"Times,serif\" font-size=\"14.00\" text-anchor=\"middle\" x=\"509.811\" y=\"-110.3\">input:</text>\n",
       "<polyline fill=\"none\" points=\"481.976,-103.5 537.645,-103.5 \" stroke=\"black\"/>\n",
       "<text font-family=\"Times,serif\" font-size=\"14.00\" text-anchor=\"middle\" x=\"509.811\" y=\"-88.3\">output:</text>\n",
       "<polyline fill=\"none\" points=\"537.645,-81.5 537.645,-125.5 \" stroke=\"black\"/>\n",
       "<text font-family=\"Times,serif\" font-size=\"14.00\" text-anchor=\"middle\" x=\"579.469\" y=\"-110.3\">(None, 1, 3)</text>\n",
       "<polyline fill=\"none\" points=\"537.645,-103.5 621.293,-103.5 \" stroke=\"black\"/>\n",
       "<text font-family=\"Times,serif\" font-size=\"14.00\" text-anchor=\"middle\" x=\"579.469\" y=\"-88.3\">(None, 3)</text>\n",
       "</g>\n",
       "<!-- 111995810872&#45;&gt;111995811040 -->\n",
       "<g class=\"edge\" id=\"edge4\"><title>111995810872-&gt;111995811040</title>\n",
       "<path d=\"M498.911,-162.329C497.571,-154.183 496.01,-144.699 494.545,-135.797\" fill=\"none\" stroke=\"black\"/>\n",
       "<polygon fill=\"black\" points=\"497.966,-135.028 492.888,-125.729 491.059,-136.165 497.966,-135.028\" stroke=\"black\"/>\n",
       "</g>\n",
       "<!-- 111995811152 -->\n",
       "<g class=\"node\" id=\"node7\"><title>111995811152</title>\n",
       "<polygon fill=\"none\" points=\"162.572,-0.5 162.572,-44.5 514.218,-44.5 514.218,-0.5 162.572,-0.5\" stroke=\"black\"/>\n",
       "<text font-family=\"Times,serif\" font-size=\"14.00\" text-anchor=\"middle\" x=\"240.75\" y=\"-18.3\">MatrixFactorization: Dot</text>\n",
       "<polyline fill=\"none\" points=\"318.928,-0.5 318.928,-44.5 \" stroke=\"black\"/>\n",
       "<text font-family=\"Times,serif\" font-size=\"14.00\" text-anchor=\"middle\" x=\"346.762\" y=\"-29.3\">input:</text>\n",
       "<polyline fill=\"none\" points=\"318.928,-22.5 374.597,-22.5 \" stroke=\"black\"/>\n",
       "<text font-family=\"Times,serif\" font-size=\"14.00\" text-anchor=\"middle\" x=\"346.762\" y=\"-7.3\">output:</text>\n",
       "<polyline fill=\"none\" points=\"374.597,-0.5 374.597,-44.5 \" stroke=\"black\"/>\n",
       "<text font-family=\"Times,serif\" font-size=\"14.00\" text-anchor=\"middle\" x=\"444.407\" y=\"-29.3\">[(None, 3), (None, 3)]</text>\n",
       "<polyline fill=\"none\" points=\"374.597,-22.5 514.218,-22.5 \" stroke=\"black\"/>\n",
       "<text font-family=\"Times,serif\" font-size=\"14.00\" text-anchor=\"middle\" x=\"443.921\" y=\"-7.3\">(None, 1)</text>\n",
       "</g>\n",
       "<!-- 111995810816&#45;&gt;111995811152 -->\n",
       "<g class=\"edge\" id=\"edge5\"><title>111995810816-&gt;111995811152</title>\n",
       "<path d=\"M228.592,-81.3294C247.246,-71.5049 269.591,-59.7366 289.24,-49.3883\" fill=\"none\" stroke=\"black\"/>\n",
       "<polygon fill=\"black\" points=\"291.13,-52.3486 298.347,-44.5919 287.868,-46.1551 291.13,-52.3486\" stroke=\"black\"/>\n",
       "</g>\n",
       "<!-- 111995811040&#45;&gt;111995811152 -->\n",
       "<g class=\"edge\" id=\"edge6\"><title>111995811040-&gt;111995811152</title>\n",
       "<path d=\"M448.93,-81.3294C430.066,-71.4605 407.454,-59.63 387.609,-49.2479\" fill=\"none\" stroke=\"black\"/>\n",
       "<polygon fill=\"black\" points=\"389.193,-46.1264 378.71,-44.5919 385.948,-52.3288 389.193,-46.1264\" stroke=\"black\"/>\n",
       "</g>\n",
       "</g>\n",
       "</svg>"
      ],
      "text/plain": [
       "<IPython.core.display.SVG object>"
      ]
     },
     "execution_count": 45,
     "metadata": {},
     "output_type": "execute_result"
    }
   ],
   "source": [
    "from keras.utils.vis_utils import model_to_dot\n",
    "from IPython.display import SVG\n",
    "SVG(model_to_dot(model,  show_shapes=True, show_layer_names=True, rankdir='HB').create(prog='dot', format='svg'))"
   ]
  },
  {
   "cell_type": "code",
   "execution_count": 39,
   "metadata": {},
   "outputs": [
    {
     "data": {
      "text/plain": [
       "array([ 4539, 21449, 28335, ..., 26948,  1766, 31200], dtype=int32)"
      ]
     },
     "execution_count": 39,
     "metadata": {},
     "output_type": "execute_result"
    }
   ],
   "source": [
    "traindf.userId.values"
   ]
  },
  {
   "cell_type": "code",
   "execution_count": 40,
   "metadata": {},
   "outputs": [
    {
     "name": "stdout",
     "output_type": "stream",
     "text": [
      "Epoch 1/100\n",
      "40102/40102 [==============================] - 10s 240us/step - loss: 13.5493\n",
      "Epoch 2/100\n",
      "40102/40102 [==============================] - 9s 227us/step - loss: 13.5154\n",
      "Epoch 3/100\n",
      "40102/40102 [==============================] - 9s 237us/step - loss: 13.3653\n",
      "Epoch 4/100\n",
      "40102/40102 [==============================] - 10s 250us/step - loss: 13.0370\n",
      "Epoch 5/100\n",
      "40102/40102 [==============================] - 10s 243us/step - loss: 12.5399\n",
      "Epoch 6/100\n",
      "40102/40102 [==============================] - 10s 246us/step - loss: 11.9038\n",
      "Epoch 7/100\n",
      "40102/40102 [==============================] - 12s 289us/step - loss: 11.1570\n",
      "Epoch 8/100\n",
      "40102/40102 [==============================] - 10s 240us/step - loss: 10.3298\n",
      "Epoch 9/100\n",
      "40102/40102 [==============================] - 9s 225us/step - loss: 9.4517\n",
      "Epoch 10/100\n",
      "40102/40102 [==============================] - 9s 223us/step - loss: 8.5550\n",
      "Epoch 11/100\n",
      "40102/40102 [==============================] - 11s 264us/step - loss: 7.6719\n",
      "Epoch 12/100\n",
      "40102/40102 [==============================] - 11s 264us/step - loss: 6.8300\n",
      "Epoch 13/100\n",
      "40102/40102 [==============================] - 10s 245us/step - loss: 6.0531\n",
      "Epoch 14/100\n",
      "40102/40102 [==============================] - 11s 264us/step - loss: 5.3547\n",
      "Epoch 15/100\n",
      "40102/40102 [==============================] - 11s 263us/step - loss: 4.7401\n",
      "Epoch 16/100\n",
      "40102/40102 [==============================] - 11s 266us/step - loss: 4.2061\n",
      "Epoch 17/100\n",
      "40102/40102 [==============================] - 11s 264us/step - loss: 3.7450\n",
      "Epoch 18/100\n",
      "40102/40102 [==============================] - 10s 254us/step - loss: 3.3484\n",
      "Epoch 19/100\n",
      "40102/40102 [==============================] - 11s 264us/step - loss: 3.0063\n",
      "Epoch 20/100\n",
      "40102/40102 [==============================] - 11s 268us/step - loss: 2.7107\n",
      "Epoch 21/100\n",
      "40102/40102 [==============================] - 11s 268us/step - loss: 2.4542\n",
      "Epoch 22/100\n",
      "40102/40102 [==============================] - 11s 283us/step - loss: 2.2311\n",
      "Epoch 23/100\n",
      "40102/40102 [==============================] - 12s 288us/step - loss: 2.0362\n",
      "Epoch 24/100\n",
      "40102/40102 [==============================] - 10s 253us/step - loss: 1.8644\n",
      "Epoch 25/100\n",
      "40102/40102 [==============================] - 11s 275us/step - loss: 1.7142\n",
      "Epoch 26/100\n",
      "40102/40102 [==============================] - 15s 385us/step - loss: 1.5807\n",
      "Epoch 27/100\n",
      "40102/40102 [==============================] - 13s 314us/step - loss: 1.4629\n",
      "Epoch 28/100\n",
      "40102/40102 [==============================] - 12s 301us/step - loss: 1.3578\n",
      "Epoch 29/100\n",
      "40102/40102 [==============================] - 12s 302us/step - loss: 1.2640\n",
      "Epoch 30/100\n",
      "40102/40102 [==============================] - 11s 283us/step - loss: 1.1801\n",
      "Epoch 31/100\n",
      "40102/40102 [==============================] - 11s 281us/step - loss: 1.1048\n",
      "Epoch 32/100\n",
      "40102/40102 [==============================] - 11s 273us/step - loss: 1.0371\n",
      "Epoch 33/100\n",
      "40102/40102 [==============================] - 11s 278us/step - loss: 0.9767\n",
      "Epoch 34/100\n",
      "40102/40102 [==============================] - 11s 273us/step - loss: 0.9211\n",
      "Epoch 35/100\n",
      "40102/40102 [==============================] - 12s 288us/step - loss: 0.8711\n",
      "Epoch 36/100\n",
      "40102/40102 [==============================] - 11s 266us/step - loss: 0.8256\n",
      "Epoch 37/100\n",
      "40102/40102 [==============================] - 11s 273us/step - loss: 0.7842\n",
      "Epoch 38/100\n",
      "40102/40102 [==============================] - 11s 284us/step - loss: 0.7463\n",
      "Epoch 39/100\n",
      "40102/40102 [==============================] - 14s 358us/step - loss: 0.7114\n",
      "Epoch 40/100\n",
      "40102/40102 [==============================] - 17s 436us/step - loss: 0.6796\n",
      "Epoch 41/100\n",
      "40102/40102 [==============================] - 18s 447us/step - loss: 0.6502\n",
      "Epoch 42/100\n",
      "40102/40102 [==============================] - 16s 396us/step - loss: 0.6230\n",
      "Epoch 43/100\n",
      "40102/40102 [==============================] - 17s 419us/step - loss: 0.5979\n",
      "Epoch 44/100\n",
      "40102/40102 [==============================] - 15s 381us/step - loss: 0.5746\n",
      "Epoch 45/100\n",
      "40102/40102 [==============================] - 16s 392us/step - loss: 0.5530\n",
      "Epoch 46/100\n",
      "40102/40102 [==============================] - 17s 418us/step - loss: 0.5326\n",
      "Epoch 47/100\n",
      "40102/40102 [==============================] - 16s 396us/step - loss: 0.5135\n",
      "Epoch 48/100\n",
      "40102/40102 [==============================] - 14s 358us/step - loss: 0.4954\n",
      "Epoch 49/100\n",
      "40102/40102 [==============================] - 14s 356us/step - loss: 0.4783\n",
      "Epoch 50/100\n",
      "40102/40102 [==============================] - 18s 439us/step - loss: 0.4618\n",
      "Epoch 51/100\n",
      "40102/40102 [==============================] - 12s 309us/step - loss: 0.4460\n",
      "Epoch 52/100\n",
      "40102/40102 [==============================] - 11s 271us/step - loss: 0.4308\n",
      "Epoch 53/100\n",
      "40102/40102 [==============================] - 12s 310us/step - loss: 0.4163\n",
      "Epoch 54/100\n",
      "40102/40102 [==============================] - 13s 319us/step - loss: 0.4022\n",
      "Epoch 55/100\n",
      "40102/40102 [==============================] - 13s 324us/step - loss: 0.3885\n",
      "Epoch 56/100\n",
      "40102/40102 [==============================] - 14s 342us/step - loss: 0.3752\n",
      "Epoch 57/100\n",
      "40102/40102 [==============================] - 15s 379us/step - loss: 0.3625\n",
      "Epoch 58/100\n",
      "40102/40102 [==============================] - 15s 377us/step - loss: 0.3501\n",
      "Epoch 59/100\n",
      "40102/40102 [==============================] - 15s 368us/step - loss: 0.3381\n",
      "Epoch 60/100\n",
      "40102/40102 [==============================] - 15s 371us/step - loss: 0.3264\n",
      "Epoch 61/100\n",
      "40102/40102 [==============================] - 15s 366us/step - loss: 0.3152\n",
      "Epoch 62/100\n",
      "40102/40102 [==============================] - 14s 355us/step - loss: 0.3044\n",
      "Epoch 63/100\n",
      "40102/40102 [==============================] - 13s 321us/step - loss: 0.2937\n",
      "Epoch 64/100\n",
      "40102/40102 [==============================] - 12s 308us/step - loss: 0.2833\n",
      "Epoch 65/100\n",
      "40102/40102 [==============================] - 13s 312us/step - loss: 0.2735\n",
      "Epoch 66/100\n",
      "40102/40102 [==============================] - 12s 305us/step - loss: 0.2639\n",
      "Epoch 67/100\n",
      "40102/40102 [==============================] - 16s 409us/step - loss: 0.2545\n",
      "Epoch 68/100\n",
      "40102/40102 [==============================] - 11s 268us/step - loss: 0.2454\n",
      "Epoch 69/100\n",
      "40102/40102 [==============================] - 9s 233us/step - loss: 0.2367\n",
      "Epoch 70/100\n",
      "40102/40102 [==============================] - 10s 254us/step - loss: 0.2283\n",
      "Epoch 71/100\n",
      "40102/40102 [==============================] - 10s 258us/step - loss: 0.2199\n",
      "Epoch 72/100\n",
      "40102/40102 [==============================] - 10s 254us/step - loss: 0.2120\n",
      "Epoch 73/100\n",
      "40102/40102 [==============================] - 10s 239us/step - loss: 0.2043\n",
      "Epoch 74/100\n",
      "40102/40102 [==============================] - 11s 277us/step - loss: 0.1969\n",
      "Epoch 75/100\n",
      "40102/40102 [==============================] - 10s 250us/step - loss: 0.1897\n",
      "Epoch 76/100\n",
      "40102/40102 [==============================] - 11s 283us/step - loss: 0.1827\n",
      "Epoch 77/100\n",
      "40102/40102 [==============================] - 10s 261us/step - loss: 0.1760\n",
      "Epoch 78/100\n",
      "40102/40102 [==============================] - 9s 234us/step - loss: 0.1697\n",
      "Epoch 79/100\n",
      "40102/40102 [==============================] - 10s 259us/step - loss: 0.1634\n",
      "Epoch 80/100\n",
      "40102/40102 [==============================] - 10s 245us/step - loss: 0.1573\n",
      "Epoch 81/100\n",
      "40102/40102 [==============================] - 10s 248us/step - loss: 0.1515\n",
      "Epoch 82/100\n",
      "40102/40102 [==============================] - 11s 263us/step - loss: 0.1459\n",
      "Epoch 83/100\n",
      "40102/40102 [==============================] - 12s 305us/step - loss: 0.1405\n",
      "Epoch 84/100\n",
      "40102/40102 [==============================] - 12s 297us/step - loss: 0.1356\n",
      "Epoch 85/100\n",
      "40102/40102 [==============================] - 11s 281us/step - loss: 0.1304\n",
      "Epoch 86/100\n",
      "40102/40102 [==============================] - 10s 244us/step - loss: 0.1258\n",
      "Epoch 87/100\n",
      "40102/40102 [==============================] - 10s 241us/step - loss: 0.1211\n",
      "Epoch 88/100\n",
      "40102/40102 [==============================] - 10s 255us/step - loss: 0.1168\n",
      "Epoch 89/100\n",
      "40102/40102 [==============================] - 11s 271us/step - loss: 0.1125\n",
      "Epoch 90/100\n",
      "40102/40102 [==============================] - 9s 235us/step - loss: 0.1085\n",
      "Epoch 91/100\n",
      "40102/40102 [==============================] - 10s 243us/step - loss: 0.1048\n",
      "Epoch 92/100\n",
      "40102/40102 [==============================] - 10s 257us/step - loss: 0.1011\n",
      "Epoch 93/100\n",
      "40102/40102 [==============================] - 11s 263us/step - loss: 0.0975\n",
      "Epoch 94/100\n",
      "40102/40102 [==============================] - 10s 255us/step - loss: 0.0942\n",
      "Epoch 95/100\n",
      "40102/40102 [==============================] - 11s 268us/step - loss: 0.0908\n",
      "Epoch 96/100\n",
      "40102/40102 [==============================] - 10s 261us/step - loss: 0.0878\n",
      "Epoch 97/100\n",
      "40102/40102 [==============================] - 11s 267us/step - loss: 0.0847\n",
      "Epoch 98/100\n",
      "40102/40102 [==============================] - 9s 227us/step - loss: 0.0819\n",
      "Epoch 99/100\n",
      "40102/40102 [==============================] - 10s 260us/step - loss: 0.0790\n",
      "Epoch 100/100\n",
      "40102/40102 [==============================] - 11s 268us/step - loss: 0.0765\n"
     ]
    }
   ],
   "source": [
    "history = model.fit([traindf.userId.values, traindf.movieId.values], traindf.rating.values, epochs=100)"
   ]
  },
  {
   "cell_type": "code",
   "execution_count": 41,
   "metadata": {},
   "outputs": [
    {
     "data": {
      "text/plain": [
       "[<matplotlib.lines.Line2D at 0x1a44fef9b0>]"
      ]
     },
     "execution_count": 41,
     "metadata": {},
     "output_type": "execute_result"
    },
    {
     "data": {
      "image/png": "[encoded data removed]",
      "text/plain": [
       "<Figure size 432x288 with 1 Axes>"
      ]
     },
     "metadata": {},
     "output_type": "display_data"
    }
   ],
   "source": [
    "plt.plot(history.history['loss'])"
   ]
  },
  {
   "cell_type": "code",
   "execution_count": 44,
   "metadata": {},
   "outputs": [
    {
     "data": {
      "text/plain": [
       "4.2566359948675405"
      ]
     },
     "execution_count": 44,
     "metadata": {},
     "output_type": "execute_result"
    }
   ],
   "source": [
    "y_hat = model.predict([testdf.userId.values, testdf.movieId.values])\n",
    "from sklearn.metrics import mean_squared_error\n",
    "np.sqrt(mean_squared_error(testdf.rating.values, y_hat))"
   ]
  },
  {
   "cell_type": "code",
   "execution_count": null,
   "metadata": {},
   "outputs": [],
   "source": []
  }
 ],
 "metadata": {
  "kernelspec": {
   "display_name": "Python 3",
   "language": "python",
   "name": "python3"
  },
  "language_info": {
   "codemirror_mode": {
    "name": "ipython",
    "version": 3
   },
   "file_extension": ".py",
   "mimetype": "text/x-python",
   "name": "python",
   "nbconvert_exporter": "python",
   "pygments_lexer": "ipython3",
   "version": "3.6.8"
  }
 },
 "nbformat": 4,
 "nbformat_minor": 2
}
